{
 "cells": [
  {
   "cell_type": "markdown",
   "id": "693f0f37",
   "metadata": {},
   "source": [
    "# Data Preprocessing - Speed Bump Detection\n"
   ]
  },
  {
   "cell_type": "markdown",
   "id": "5c709edb",
   "metadata": {},
   "source": [
    "## 1.Read dataset and save it into a pandas DataFrame"
   ]
  },
  {
   "cell_type": "code",
   "execution_count": 1,
   "id": "350776c5",
   "metadata": {},
   "outputs": [
    {
     "data": {
      "text/html": [
       "<div>\n",
       "<style scoped>\n",
       "    .dataframe tbody tr th:only-of-type {\n",
       "        vertical-align: middle;\n",
       "    }\n",
       "\n",
       "    .dataframe tbody tr th {\n",
       "        vertical-align: top;\n",
       "    }\n",
       "\n",
       "    .dataframe thead th {\n",
       "        text-align: right;\n",
       "    }\n",
       "</style>\n",
       "<table border=\"1\" class=\"dataframe\">\n",
       "  <thead>\n",
       "    <tr style=\"text-align: right;\">\n",
       "      <th></th>\n",
       "      <th>ACC_X</th>\n",
       "      <th>ACC_Y</th>\n",
       "      <th>ACC_Z</th>\n",
       "      <th>GYRO_X</th>\n",
       "      <th>GYRO_Y</th>\n",
       "      <th>GYRO_Z</th>\n",
       "      <th>Latitude</th>\n",
       "      <th>Longitude</th>\n",
       "      <th>Altitude</th>\n",
       "      <th>Accuracy</th>\n",
       "      <th>Speed</th>\n",
       "      <th>Bearing</th>\n",
       "      <th>Road_Anomaly_type</th>\n",
       "      <th>Date</th>\n",
       "    </tr>\n",
       "    <tr>\n",
       "      <th>ID</th>\n",
       "      <th></th>\n",
       "      <th></th>\n",
       "      <th></th>\n",
       "      <th></th>\n",
       "      <th></th>\n",
       "      <th></th>\n",
       "      <th></th>\n",
       "      <th></th>\n",
       "      <th></th>\n",
       "      <th></th>\n",
       "      <th></th>\n",
       "      <th></th>\n",
       "      <th></th>\n",
       "      <th></th>\n",
       "    </tr>\n",
       "  </thead>\n",
       "  <tbody>\n",
       "    <tr>\n",
       "      <th>30419</th>\n",
       "      <td>-0.491625</td>\n",
       "      <td>8.789066</td>\n",
       "      <td>0.363765</td>\n",
       "      <td>0.000000</td>\n",
       "      <td>0.000000</td>\n",
       "      <td>0.000000</td>\n",
       "      <td>35.710672</td>\n",
       "      <td>-0.602766</td>\n",
       "      <td>203.886207</td>\n",
       "      <td>28.136999</td>\n",
       "      <td>0.0</td>\n",
       "      <td>0.0</td>\n",
       "      <td>NONE</td>\n",
       "      <td>18-07-2021 11:19:27</td>\n",
       "    </tr>\n",
       "    <tr>\n",
       "      <th>30420</th>\n",
       "      <td>-1.616795</td>\n",
       "      <td>10.795905</td>\n",
       "      <td>0.492573</td>\n",
       "      <td>0.000000</td>\n",
       "      <td>0.000000</td>\n",
       "      <td>0.000000</td>\n",
       "      <td>35.710672</td>\n",
       "      <td>-0.602766</td>\n",
       "      <td>203.886207</td>\n",
       "      <td>28.136999</td>\n",
       "      <td>0.0</td>\n",
       "      <td>0.0</td>\n",
       "      <td>NONE</td>\n",
       "      <td>18-07-2021 11:19:27</td>\n",
       "    </tr>\n",
       "    <tr>\n",
       "      <th>30421</th>\n",
       "      <td>1.363862</td>\n",
       "      <td>8.480052</td>\n",
       "      <td>-0.841514</td>\n",
       "      <td>0.255970</td>\n",
       "      <td>-1.715240</td>\n",
       "      <td>0.424865</td>\n",
       "      <td>35.710556</td>\n",
       "      <td>-0.602052</td>\n",
       "      <td>203.886207</td>\n",
       "      <td>2112.000000</td>\n",
       "      <td>0.0</td>\n",
       "      <td>0.0</td>\n",
       "      <td>NONE</td>\n",
       "      <td>18-07-2021 11:19:28</td>\n",
       "    </tr>\n",
       "    <tr>\n",
       "      <th>30422</th>\n",
       "      <td>-1.312856</td>\n",
       "      <td>11.562758</td>\n",
       "      <td>2.396663</td>\n",
       "      <td>-0.172020</td>\n",
       "      <td>-0.091665</td>\n",
       "      <td>-0.005201</td>\n",
       "      <td>35.710556</td>\n",
       "      <td>-0.602052</td>\n",
       "      <td>203.886207</td>\n",
       "      <td>2112.000000</td>\n",
       "      <td>0.0</td>\n",
       "      <td>0.0</td>\n",
       "      <td>NONE</td>\n",
       "      <td>18-07-2021 11:19:28</td>\n",
       "    </tr>\n",
       "    <tr>\n",
       "      <th>30423</th>\n",
       "      <td>0.473880</td>\n",
       "      <td>12.242002</td>\n",
       "      <td>2.707124</td>\n",
       "      <td>-0.090251</td>\n",
       "      <td>0.214676</td>\n",
       "      <td>0.034540</td>\n",
       "      <td>35.710556</td>\n",
       "      <td>-0.602052</td>\n",
       "      <td>203.886207</td>\n",
       "      <td>2112.000000</td>\n",
       "      <td>0.0</td>\n",
       "      <td>0.0</td>\n",
       "      <td>NONE</td>\n",
       "      <td>18-07-2021 11:19:28</td>\n",
       "    </tr>\n",
       "  </tbody>\n",
       "</table>\n",
       "</div>"
      ],
      "text/plain": [
       "          ACC_X      ACC_Y     ACC_Z    GYRO_X    GYRO_Y    GYRO_Z   Latitude  \\\n",
       "ID                                                                              \n",
       "30419 -0.491625   8.789066  0.363765  0.000000  0.000000  0.000000  35.710672   \n",
       "30420 -1.616795  10.795905  0.492573  0.000000  0.000000  0.000000  35.710672   \n",
       "30421  1.363862   8.480052 -0.841514  0.255970 -1.715240  0.424865  35.710556   \n",
       "30422 -1.312856  11.562758  2.396663 -0.172020 -0.091665 -0.005201  35.710556   \n",
       "30423  0.473880  12.242002  2.707124 -0.090251  0.214676  0.034540  35.710556   \n",
       "\n",
       "       Longitude    Altitude     Accuracy  Speed  Bearing Road_Anomaly_type  \\\n",
       "ID                                                                            \n",
       "30419  -0.602766  203.886207    28.136999    0.0      0.0              NONE   \n",
       "30420  -0.602766  203.886207    28.136999    0.0      0.0              NONE   \n",
       "30421  -0.602052  203.886207  2112.000000    0.0      0.0              NONE   \n",
       "30422  -0.602052  203.886207  2112.000000    0.0      0.0              NONE   \n",
       "30423  -0.602052  203.886207  2112.000000    0.0      0.0              NONE   \n",
       "\n",
       "                      Date  \n",
       "ID                          \n",
       "30419  18-07-2021 11:19:27  \n",
       "30420  18-07-2021 11:19:27  \n",
       "30421  18-07-2021 11:19:28  \n",
       "30422  18-07-2021 11:19:28  \n",
       "30423  18-07-2021 11:19:28  "
      ]
     },
     "execution_count": 1,
     "metadata": {},
     "output_type": "execute_result"
    }
   ],
   "source": [
    "import pandas as pd\n",
    "import numpy as np\n",
    "from scipy.stats import skew\n",
    "from scipy.stats import kurtosis\n",
    "\n",
    "df = pd.read_csv(\"Road_surface_dataset Raw V0.2.csv\", index_col=0)\n",
    "\n",
    "df.head()"
   ]
  },
  {
   "cell_type": "markdown",
   "id": "af2619fa",
   "metadata": {},
   "source": [
    "## 2.Value Counts for the target class \"Road_Anomaly_type\""
   ]
  },
  {
   "cell_type": "code",
   "execution_count": 2,
   "id": "b9174c40",
   "metadata": {},
   "outputs": [
    {
     "name": "stdout",
     "output_type": "stream",
     "text": [
      "NONE          10915\n",
      "Speed Bump       95\n",
      "Name: Road_Anomaly_type, dtype: int64\n"
     ]
    }
   ],
   "source": [
    "print(df[\"Road_Anomaly_type\"].value_counts())"
   ]
  },
  {
   "cell_type": "markdown",
   "id": "2ee03f5d",
   "metadata": {},
   "source": [
    "## 3.Transform target class type from textual to number\n"
   ]
  },
  {
   "cell_type": "code",
   "execution_count": 3,
   "id": "1ec081f5",
   "metadata": {},
   "outputs": [
    {
     "name": "stdout",
     "output_type": "stream",
     "text": [
      "0    10915\n",
      "1       95\n",
      "Name: Road_Anomaly_type, dtype: int64\n"
     ]
    }
   ],
   "source": [
    "road_anomaly_none = df[\"Road_Anomaly_type\"] == \"NONE\"\n",
    "road_anomaly_sb = df[\"Road_Anomaly_type\"] == \"Speed Bump\"\n",
    "\n",
    "df.loc[road_anomaly_none,\"Road_Anomaly_type\"] = 0\n",
    "df.loc[road_anomaly_sb,\"Road_Anomaly_type\"] = 1\n",
    "\n",
    "print(df[\"Road_Anomaly_type\"].value_counts())"
   ]
  },
  {
   "cell_type": "markdown",
   "id": "86723f1f",
   "metadata": {},
   "source": [
    "## 4.Prepare data for sampling by different seconds windows"
   ]
  },
  {
   "cell_type": "code",
   "execution_count": 4,
   "id": "cafc73c8",
   "metadata": {},
   "outputs": [
    {
     "name": "stderr",
     "output_type": "stream",
     "text": [
      "C:\\Users\\NGSI\\anaconda3\\lib\\site-packages\\pandas\\core\\indexing.py:1637: SettingWithCopyWarning: \n",
      "A value is trying to be set on a copy of a slice from a DataFrame\n",
      "\n",
      "See the caveats in the documentation: https://pandas.pydata.org/pandas-docs/stable/user_guide/indexing.html#returning-a-view-versus-a-copy\n",
      "  self._setitem_single_block(indexer, value, name)\n"
     ]
    }
   ],
   "source": [
    "df_sampled = df\n",
    "df_sampled['seconds']=0\n",
    "i=0\n",
    "previous = 0\n",
    "current_time = df_sampled['Date'].iloc[i]\n",
    "while i < df_sampled['Road_Anomaly_type'].size:\n",
    "    if current_time == df_sampled['Date'].iloc[i]:\n",
    "        df_sampled['seconds'].iloc[i]= previous\n",
    "        i=i+1\n",
    "    else:\n",
    "        df_sampled['seconds'].iloc[i]= previous+1\n",
    "        previous = previous+1\n",
    "        current_time = df_sampled['Date'].iloc[i]\n",
    "        i=i+1"
   ]
  },
  {
   "cell_type": "markdown",
   "id": "294737c2",
   "metadata": {},
   "source": [
    "## 4.1.Sample Data using (one second window)\n",
    "\n",
    "Five statistical features (mean, variance, skewness, kurtosis, standard deviation, max) are generated for each sensors value (ACC_X\tACC_Y\tACC_Z\tGYRO_X\tGYRO_Y\tGYRO_Z)."
   ]
  },
  {
   "cell_type": "code",
   "execution_count": 5,
   "id": "93e9ff3e",
   "metadata": {},
   "outputs": [],
   "source": [
    "df_sampled_one_sec = df_sampled.groupby(\"seconds\",as_index=False).agg(\n",
    "    ACC_X_mean=pd.NamedAgg(column=\"ACC_X\", aggfunc=np.mean),\n",
    "    ACC_X_var=pd.NamedAgg(column=\"ACC_X\", aggfunc=np.var),\n",
    "    ACC_X_skew=pd.NamedAgg(column=\"ACC_X\", aggfunc=skew),\n",
    "    ACC_X_kurtosis=pd.NamedAgg(column=\"ACC_X\", aggfunc=kurtosis),\n",
    "    ACC_X_std=pd.NamedAgg(column=\"ACC_X\", aggfunc=np.std),\n",
    "    ACC_X_max=pd.NamedAgg(column=\"ACC_X\", aggfunc=\"max\"),\n",
    "    ACC_X_DR=pd.NamedAgg(column=\"ACC_X\", aggfunc=lambda x: x.max() - x.min()),\n",
    "    ACC_Y_mean=pd.NamedAgg(column=\"ACC_Y\", aggfunc=np.mean),\n",
    "    ACC_Y_var=pd.NamedAgg(column=\"ACC_Y\", aggfunc=np.var),\n",
    "    ACC_Y_skew=pd.NamedAgg(column=\"ACC_Y\", aggfunc=skew),\n",
    "    ACC_Y_kurtosis=pd.NamedAgg(column=\"ACC_Y\", aggfunc=kurtosis),\n",
    "    ACC_Y_std=pd.NamedAgg(column=\"ACC_Y\", aggfunc=np.std),\n",
    "    ACC_Y_max=pd.NamedAgg(column=\"ACC_Y\", aggfunc=\"max\"),\n",
    "    ACC_Y_DR=pd.NamedAgg(column=\"ACC_Y\", aggfunc=lambda x: x.max() - x.min()),\n",
    "    ACC_Z_mean=pd.NamedAgg(column=\"ACC_Z\", aggfunc=np.mean),\n",
    "    ACC_Z_var=pd.NamedAgg(column=\"ACC_Z\", aggfunc=np.var),\n",
    "    ACC_Z_skew=pd.NamedAgg(column=\"ACC_Z\", aggfunc=skew),\n",
    "    ACC_Z_kurtosis=pd.NamedAgg(column=\"ACC_Z\", aggfunc=kurtosis),\n",
    "    ACC_Z_std=pd.NamedAgg(column=\"ACC_Z\", aggfunc=np.std),\n",
    "    ACC_Z_max=pd.NamedAgg(column=\"ACC_Z\", aggfunc=\"max\"),\n",
    "    ACC_Z_DR=pd.NamedAgg(column=\"ACC_Z\", aggfunc=lambda x: x.max() - x.min()),\n",
    "    GYRO_X_mean=pd.NamedAgg(column=\"GYRO_X\", aggfunc=np.mean),\n",
    "    GYRO_X_var=pd.NamedAgg(column=\"GYRO_X\", aggfunc=np.var),\n",
    "    GYRO_X_skew=pd.NamedAgg(column=\"GYRO_X\", aggfunc=skew),\n",
    "    GYRO_X_kurtosis=pd.NamedAgg(column=\"GYRO_X\", aggfunc=kurtosis),\n",
    "    GYRO_X_std=pd.NamedAgg(column=\"GYRO_X\", aggfunc=np.std),\n",
    "    GYRO_X_max=pd.NamedAgg(column=\"GYRO_X\", aggfunc=\"max\"),\n",
    "    GYRO_X_DR=pd.NamedAgg(column=\"GYRO_X\", aggfunc=lambda x: x.max() - x.min()),\n",
    "    GYRO_Y_mean=pd.NamedAgg(column=\"GYRO_Y\", aggfunc=np.mean),\n",
    "    GYRO_Y_var=pd.NamedAgg(column=\"GYRO_Y\", aggfunc=np.var),\n",
    "    GYRO_Y_skew=pd.NamedAgg(column=\"GYRO_Y\", aggfunc=skew),\n",
    "    GYRO_Y_kurtosis=pd.NamedAgg(column=\"GYRO_Y\", aggfunc=kurtosis),\n",
    "    GYRO_Y_std=pd.NamedAgg(column=\"GYRO_Y\", aggfunc=np.std),\n",
    "    GYRO_Y_max=pd.NamedAgg(column=\"GYRO_Y\", aggfunc=\"max\"),\n",
    "    GYRO_Y_DR=pd.NamedAgg(column=\"GYRO_Y\", aggfunc=lambda x: x.max() - x.min()),\n",
    "    GYRO_Z_mean=pd.NamedAgg(column=\"GYRO_Z\", aggfunc=np.mean),\n",
    "    GYRO_Z_var=pd.NamedAgg(column=\"GYRO_Z\", aggfunc=np.var),\n",
    "    GYRO_Z_skew=pd.NamedAgg(column=\"GYRO_Z\", aggfunc=skew),\n",
    "    GYRO_Z_kurtosis=pd.NamedAgg(column=\"GYRO_Z\", aggfunc=kurtosis),\n",
    "    GYRO_Z_std=pd.NamedAgg(column=\"GYRO_Z\", aggfunc=np.std),\n",
    "    GYRO_Z_max=pd.NamedAgg(column=\"GYRO_Z\", aggfunc=\"max\"),\n",
    "    GYRO_Z_DR=pd.NamedAgg(column=\"GYRO_Z\", aggfunc=lambda x: x.max() - x.min()),\n",
    "    Lat=pd.NamedAgg(column=\"Latitude\", aggfunc=\"max\"),\n",
    "    Lon=pd.NamedAgg(column=\"Longitude\", aggfunc=\"max\"),\n",
    "    Alt=pd.NamedAgg(column=\"Altitude\", aggfunc=\"max\"),\n",
    "    Speed=pd.NamedAgg(column=\"Speed\", aggfunc=np.mean),\n",
    "    Accuracy=pd.NamedAgg(column=\"Accuracy\", aggfunc=np.mean),\n",
    "    Bearing=pd.NamedAgg(column=\"Bearing\", aggfunc=\"max\"),\n",
    "    Road_Anomaly_type=pd.NamedAgg(column=\"Road_Anomaly_type\", aggfunc=\"max\"),\n",
    "    \n",
    ")\n"
   ]
  },
  {
   "cell_type": "code",
   "execution_count": 6,
   "id": "fcd6d676",
   "metadata": {},
   "outputs": [
    {
     "name": "stdout",
     "output_type": "stream",
     "text": [
      "0    2062\n",
      "1      95\n",
      "Name: Road_Anomaly_type, dtype: int64\n"
     ]
    },
    {
     "data": {
      "text/plain": [
       "(2157, 50)"
      ]
     },
     "execution_count": 6,
     "metadata": {},
     "output_type": "execute_result"
    }
   ],
   "source": [
    "print(df_sampled_one_sec[\"Road_Anomaly_type\"].value_counts())\n",
    "df_sampled_one_sec.shape"
   ]
  },
  {
   "cell_type": "markdown",
   "id": "fe07539b",
   "metadata": {},
   "source": [
    "## 4.1.1.Drop Null Values"
   ]
  },
  {
   "cell_type": "code",
   "execution_count": 7,
   "id": "916ba25e",
   "metadata": {},
   "outputs": [
    {
     "data": {
      "text/plain": [
       "seconds               0\n",
       "ACC_X_mean            0\n",
       "ACC_X_var            20\n",
       "ACC_X_skew            0\n",
       "ACC_X_kurtosis        0\n",
       "ACC_X_std            20\n",
       "ACC_X_max             0\n",
       "ACC_X_DR              0\n",
       "ACC_Y_mean            0\n",
       "ACC_Y_var            20\n",
       "ACC_Y_skew            0\n",
       "ACC_Y_kurtosis        0\n",
       "ACC_Y_std            20\n",
       "ACC_Y_max             0\n",
       "ACC_Y_DR              0\n",
       "ACC_Z_mean            0\n",
       "ACC_Z_var            20\n",
       "ACC_Z_skew            0\n",
       "ACC_Z_kurtosis        0\n",
       "ACC_Z_std            20\n",
       "ACC_Z_max             0\n",
       "ACC_Z_DR              0\n",
       "GYRO_X_mean           0\n",
       "GYRO_X_var           20\n",
       "GYRO_X_skew           0\n",
       "GYRO_X_kurtosis       0\n",
       "GYRO_X_std           20\n",
       "GYRO_X_max            0\n",
       "GYRO_X_DR             0\n",
       "GYRO_Y_mean           0\n",
       "GYRO_Y_var           20\n",
       "GYRO_Y_skew           0\n",
       "GYRO_Y_kurtosis       0\n",
       "GYRO_Y_std           20\n",
       "GYRO_Y_max            0\n",
       "GYRO_Y_DR             0\n",
       "GYRO_Z_mean           0\n",
       "GYRO_Z_var           20\n",
       "GYRO_Z_skew           0\n",
       "GYRO_Z_kurtosis       0\n",
       "GYRO_Z_std           20\n",
       "GYRO_Z_max            0\n",
       "GYRO_Z_DR             0\n",
       "Lat                   0\n",
       "Lon                   0\n",
       "Alt                   0\n",
       "Speed                 0\n",
       "Accuracy              0\n",
       "Bearing               0\n",
       "Road_Anomaly_type     0\n",
       "dtype: int64"
      ]
     },
     "execution_count": 7,
     "metadata": {},
     "output_type": "execute_result"
    }
   ],
   "source": [
    "df_sampled_one_sec.isnull().sum()"
   ]
  },
  {
   "cell_type": "code",
   "execution_count": 8,
   "id": "f5c3a229",
   "metadata": {},
   "outputs": [
    {
     "data": {
      "text/plain": [
       "(2137, 50)"
      ]
     },
     "execution_count": 8,
     "metadata": {},
     "output_type": "execute_result"
    }
   ],
   "source": [
    "df_sampled_one_sec = df_sampled_one_sec.dropna()\n",
    "df_sampled_one_sec = df_sampled_one_sec.reset_index(drop=True)\n",
    "df_sampled_one_sec.shape"
   ]
  },
  {
   "cell_type": "code",
   "execution_count": 9,
   "id": "80d19465",
   "metadata": {},
   "outputs": [
    {
     "data": {
      "text/plain": [
       "Index(['ACC_X_mean', 'ACC_X_var', 'ACC_X_skew', 'ACC_X_kurtosis', 'ACC_X_std',\n",
       "       'ACC_X_max', 'ACC_X_DR', 'ACC_Y_mean', 'ACC_Y_var', 'ACC_Y_skew',\n",
       "       'ACC_Y_kurtosis', 'ACC_Y_std', 'ACC_Y_max', 'ACC_Y_DR', 'ACC_Z_mean',\n",
       "       'ACC_Z_var', 'ACC_Z_skew', 'ACC_Z_kurtosis', 'ACC_Z_std', 'ACC_Z_max',\n",
       "       'ACC_Z_DR', 'GYRO_X_mean', 'GYRO_X_var', 'GYRO_X_skew',\n",
       "       'GYRO_X_kurtosis', 'GYRO_X_std', 'GYRO_X_max', 'GYRO_X_DR',\n",
       "       'GYRO_Y_mean', 'GYRO_Y_var', 'GYRO_Y_skew', 'GYRO_Y_kurtosis',\n",
       "       'GYRO_Y_std', 'GYRO_Y_max', 'GYRO_Y_DR', 'GYRO_Z_mean', 'GYRO_Z_var',\n",
       "       'GYRO_Z_skew', 'GYRO_Z_kurtosis', 'GYRO_Z_std', 'GYRO_Z_max',\n",
       "       'GYRO_Z_DR', 'Lat', 'Lon', 'Alt', 'Speed', 'Accuracy', 'Bearing',\n",
       "       'Road_Anomaly_type'],\n",
       "      dtype='object')"
      ]
     },
     "execution_count": 9,
     "metadata": {},
     "output_type": "execute_result"
    }
   ],
   "source": [
    "df_sampled_one_sec = df_sampled_one_sec.drop(['seconds'], axis=1)\n",
    "\n",
    "df_sampled_one_sec.columns"
   ]
  },
  {
   "cell_type": "markdown",
   "id": "10a49f4c",
   "metadata": {},
   "source": [
    "## 4.1.2.Save sampled (One sec Window) dataset into a csv file"
   ]
  },
  {
   "cell_type": "code",
   "execution_count": 10,
   "id": "30820f3b",
   "metadata": {},
   "outputs": [],
   "source": [
    "df_sampled_one_sec.to_csv('Default sensors values and one second sampling window.csv')"
   ]
  },
  {
   "cell_type": "markdown",
   "id": "d1835bd8",
   "metadata": {},
   "source": [
    "## 4.1.3.Sample the data (Reducing None data)"
   ]
  },
  {
   "cell_type": "code",
   "execution_count": 11,
   "id": "3e3de454",
   "metadata": {},
   "outputs": [
    {
     "name": "stdout",
     "output_type": "stream",
     "text": [
      "0    2042\n",
      "1      95\n",
      "Name: Road_Anomaly_type, dtype: int64\n"
     ]
    }
   ],
   "source": [
    "print(df_sampled_one_sec[\"Road_Anomaly_type\"].value_counts())"
   ]
  },
  {
   "cell_type": "code",
   "execution_count": 12,
   "id": "b641bfa8",
   "metadata": {},
   "outputs": [],
   "source": [
    "df_sampled_one_sec_sampled = df_sampled_one_sec\n",
    "i=0\n",
    "j=0\n",
    "df_sampled_one_sec_sampled['remove']=False\n",
    "for name, values in df_sampled_one_sec_sampled['Road_Anomaly_type'].iteritems():\n",
    "    if(values == False):\n",
    "        j=j+1\n",
    "    else:\n",
    "        if(j>6):\n",
    "            df_sampled_one_sec_sampled.loc[i-j+3:i-4,'remove'] = True\n",
    "            j=0\n",
    "        else:\n",
    "            j=0\n",
    "    i=i+1"
   ]
  },
  {
   "cell_type": "code",
   "execution_count": 13,
   "id": "17a63309",
   "metadata": {},
   "outputs": [
    {
     "name": "stdout",
     "output_type": "stream",
     "text": [
      "0    567\n",
      "1     95\n",
      "Name: Road_Anomaly_type, dtype: int64\n"
     ]
    }
   ],
   "source": [
    "df_sampled_one_sec_sampled = df_sampled_one_sec_sampled[df_sampled_one_sec_sampled.remove != True]\n",
    "print(df_sampled_one_sec_sampled[\"Road_Anomaly_type\"].value_counts())"
   ]
  },
  {
   "cell_type": "code",
   "execution_count": 14,
   "id": "153cb8d5",
   "metadata": {},
   "outputs": [
    {
     "data": {
      "text/plain": [
       "Index(['ACC_X_mean', 'ACC_X_var', 'ACC_X_skew', 'ACC_X_kurtosis', 'ACC_X_std',\n",
       "       'ACC_X_max', 'ACC_X_DR', 'ACC_Y_mean', 'ACC_Y_var', 'ACC_Y_skew',\n",
       "       'ACC_Y_kurtosis', 'ACC_Y_std', 'ACC_Y_max', 'ACC_Y_DR', 'ACC_Z_mean',\n",
       "       'ACC_Z_var', 'ACC_Z_skew', 'ACC_Z_kurtosis', 'ACC_Z_std', 'ACC_Z_max',\n",
       "       'ACC_Z_DR', 'GYRO_X_mean', 'GYRO_X_var', 'GYRO_X_skew',\n",
       "       'GYRO_X_kurtosis', 'GYRO_X_std', 'GYRO_X_max', 'GYRO_X_DR',\n",
       "       'GYRO_Y_mean', 'GYRO_Y_var', 'GYRO_Y_skew', 'GYRO_Y_kurtosis',\n",
       "       'GYRO_Y_std', 'GYRO_Y_max', 'GYRO_Y_DR', 'GYRO_Z_mean', 'GYRO_Z_var',\n",
       "       'GYRO_Z_skew', 'GYRO_Z_kurtosis', 'GYRO_Z_std', 'GYRO_Z_max',\n",
       "       'GYRO_Z_DR', 'Lat', 'Lon', 'Alt', 'Speed', 'Accuracy', 'Bearing',\n",
       "       'Road_Anomaly_type'],\n",
       "      dtype='object')"
      ]
     },
     "execution_count": 14,
     "metadata": {},
     "output_type": "execute_result"
    }
   ],
   "source": [
    "df_sampled_one_sec_sampled = df_sampled_one_sec_sampled.drop(['remove'], axis=1)\n",
    "\n",
    "df_sampled_one_sec_sampled.columns"
   ]
  },
  {
   "cell_type": "code",
   "execution_count": 15,
   "id": "96924d05",
   "metadata": {},
   "outputs": [],
   "source": [
    "df_sampled_one_sec_sampled.to_csv('Default sensors values and one second sampling window SAMPLED.csv')"
   ]
  },
  {
   "cell_type": "markdown",
   "id": "85b77d8a",
   "metadata": {},
   "source": [
    "## 4.2.Sample Data using (two seconds window)"
   ]
  },
  {
   "cell_type": "code",
   "execution_count": 16,
   "id": "37afb034",
   "metadata": {},
   "outputs": [
    {
     "name": "stderr",
     "output_type": "stream",
     "text": [
      "C:\\Users\\NGSI\\anaconda3\\lib\\site-packages\\pandas\\core\\indexing.py:1637: SettingWithCopyWarning: \n",
      "A value is trying to be set on a copy of a slice from a DataFrame\n",
      "\n",
      "See the caveats in the documentation: https://pandas.pydata.org/pandas-docs/stable/user_guide/indexing.html#returning-a-view-versus-a-copy\n",
      "  self._setitem_single_block(indexer, value, name)\n"
     ]
    }
   ],
   "source": [
    "df_sampled_two_sec = df_sampled\n",
    "df_sampled_two_sec['Two_Sec_window']=0\n",
    "i=0\n",
    "while i < df_sampled_two_sec['Road_Anomaly_type'].size:\n",
    "    if (df_sampled_two_sec['seconds'].iloc[i] % 2) == 0:\n",
    "        df_sampled_two_sec['Two_Sec_window'].iloc[i] = df_sampled_two_sec['seconds'].iloc[i]\n",
    "    else:\n",
    "        df_sampled_two_sec['Two_Sec_window'].iloc[i] = df_sampled_two_sec['seconds'].iloc[i]-1\n",
    "    i=i+1\n"
   ]
  },
  {
   "cell_type": "code",
   "execution_count": 17,
   "id": "b59cb4a3",
   "metadata": {},
   "outputs": [],
   "source": [
    "df_sampled_two_sec = df_sampled_two_sec.groupby(\"Two_Sec_window\",as_index=False).agg(\n",
    "    ACC_X_mean=pd.NamedAgg(column=\"ACC_X\", aggfunc=np.mean),\n",
    "    ACC_X_var=pd.NamedAgg(column=\"ACC_X\", aggfunc=np.var),\n",
    "    ACC_X_skew=pd.NamedAgg(column=\"ACC_X\", aggfunc=skew),\n",
    "    ACC_X_kurtosis=pd.NamedAgg(column=\"ACC_X\", aggfunc=kurtosis),\n",
    "    ACC_X_std=pd.NamedAgg(column=\"ACC_X\", aggfunc=np.std),\n",
    "    ACC_X_max=pd.NamedAgg(column=\"ACC_X\", aggfunc=\"max\"),\n",
    "    ACC_X_DR=pd.NamedAgg(column=\"ACC_X\", aggfunc=lambda x: x.max() - x.min()),\n",
    "    ACC_Y_mean=pd.NamedAgg(column=\"ACC_Y\", aggfunc=np.mean),\n",
    "    ACC_Y_var=pd.NamedAgg(column=\"ACC_Y\", aggfunc=np.var),\n",
    "    ACC_Y_skew=pd.NamedAgg(column=\"ACC_Y\", aggfunc=skew),\n",
    "    ACC_Y_kurtosis=pd.NamedAgg(column=\"ACC_Y\", aggfunc=kurtosis),\n",
    "    ACC_Y_std=pd.NamedAgg(column=\"ACC_Y\", aggfunc=np.std),\n",
    "    ACC_Y_max=pd.NamedAgg(column=\"ACC_Y\", aggfunc=\"max\"),\n",
    "    ACC_Y_DR=pd.NamedAgg(column=\"ACC_Y\", aggfunc=lambda x: x.max() - x.min()),\n",
    "    ACC_Z_mean=pd.NamedAgg(column=\"ACC_Z\", aggfunc=np.mean),\n",
    "    ACC_Z_var=pd.NamedAgg(column=\"ACC_Z\", aggfunc=np.var),\n",
    "    ACC_Z_skew=pd.NamedAgg(column=\"ACC_Z\", aggfunc=skew),\n",
    "    ACC_Z_kurtosis=pd.NamedAgg(column=\"ACC_Z\", aggfunc=kurtosis),\n",
    "    ACC_Z_std=pd.NamedAgg(column=\"ACC_Z\", aggfunc=np.std),\n",
    "    ACC_Z_max=pd.NamedAgg(column=\"ACC_Z\", aggfunc=\"max\"),\n",
    "    ACC_Z_DR=pd.NamedAgg(column=\"ACC_Z\", aggfunc=lambda x: x.max() - x.min()),\n",
    "    GYRO_X_mean=pd.NamedAgg(column=\"GYRO_X\", aggfunc=np.mean),\n",
    "    GYRO_X_var=pd.NamedAgg(column=\"GYRO_X\", aggfunc=np.var),\n",
    "    GYRO_X_skew=pd.NamedAgg(column=\"GYRO_X\", aggfunc=skew),\n",
    "    GYRO_X_kurtosis=pd.NamedAgg(column=\"GYRO_X\", aggfunc=kurtosis),\n",
    "    GYRO_X_std=pd.NamedAgg(column=\"GYRO_X\", aggfunc=np.std),\n",
    "    GYRO_X_max=pd.NamedAgg(column=\"GYRO_X\", aggfunc=\"max\"),\n",
    "    GYRO_X_DR=pd.NamedAgg(column=\"GYRO_X\", aggfunc=lambda x: x.max() - x.min()),\n",
    "    GYRO_Y_mean=pd.NamedAgg(column=\"GYRO_Y\", aggfunc=np.mean),\n",
    "    GYRO_Y_var=pd.NamedAgg(column=\"GYRO_Y\", aggfunc=np.var),\n",
    "    GYRO_Y_skew=pd.NamedAgg(column=\"GYRO_Y\", aggfunc=skew),\n",
    "    GYRO_Y_kurtosis=pd.NamedAgg(column=\"GYRO_Y\", aggfunc=kurtosis),\n",
    "    GYRO_Y_std=pd.NamedAgg(column=\"GYRO_Y\", aggfunc=np.std),\n",
    "    GYRO_Y_max=pd.NamedAgg(column=\"GYRO_Y\", aggfunc=\"max\"),\n",
    "    GYRO_Y_DR=pd.NamedAgg(column=\"GYRO_Y\", aggfunc=lambda x: x.max() - x.min()),\n",
    "    GYRO_Z_mean=pd.NamedAgg(column=\"GYRO_Z\", aggfunc=np.mean),\n",
    "    GYRO_Z_var=pd.NamedAgg(column=\"GYRO_Z\", aggfunc=np.var),\n",
    "    GYRO_Z_skew=pd.NamedAgg(column=\"GYRO_Z\", aggfunc=skew),\n",
    "    GYRO_Z_kurtosis=pd.NamedAgg(column=\"GYRO_Z\", aggfunc=kurtosis),\n",
    "    GYRO_Z_std=pd.NamedAgg(column=\"GYRO_Z\", aggfunc=np.std),\n",
    "    GYRO_Z_max=pd.NamedAgg(column=\"GYRO_Z\", aggfunc=\"max\"),\n",
    "    GYRO_Z_DR=pd.NamedAgg(column=\"GYRO_Z\", aggfunc=lambda x: x.max() - x.min()),\n",
    "    Lat=pd.NamedAgg(column=\"Latitude\", aggfunc=\"max\"),\n",
    "    Lon=pd.NamedAgg(column=\"Longitude\", aggfunc=\"max\"),\n",
    "    Alt=pd.NamedAgg(column=\"Altitude\", aggfunc=\"max\"),\n",
    "    Speed=pd.NamedAgg(column=\"Speed\", aggfunc=np.mean),\n",
    "    Accuracy=pd.NamedAgg(column=\"Accuracy\", aggfunc=np.mean),\n",
    "    Bearing=pd.NamedAgg(column=\"Bearing\", aggfunc=\"max\"),\n",
    "    Road_Anomaly_type=pd.NamedAgg(column=\"Road_Anomaly_type\", aggfunc=\"max\"),\n",
    "    )"
   ]
  },
  {
   "cell_type": "code",
   "execution_count": 18,
   "id": "e27fa8e0",
   "metadata": {},
   "outputs": [
    {
     "name": "stdout",
     "output_type": "stream",
     "text": [
      "0    984\n",
      "1     95\n",
      "Name: Road_Anomaly_type, dtype: int64\n"
     ]
    }
   ],
   "source": [
    "print(df_sampled_two_sec[\"Road_Anomaly_type\"].value_counts())"
   ]
  },
  {
   "cell_type": "code",
   "execution_count": 19,
   "id": "8405a89f",
   "metadata": {},
   "outputs": [
    {
     "data": {
      "text/plain": [
       "Two_Sec_window       0\n",
       "ACC_X_mean           0\n",
       "ACC_X_var            0\n",
       "ACC_X_skew           0\n",
       "ACC_X_kurtosis       0\n",
       "ACC_X_std            0\n",
       "ACC_X_max            0\n",
       "ACC_X_DR             0\n",
       "ACC_Y_mean           0\n",
       "ACC_Y_var            0\n",
       "ACC_Y_skew           0\n",
       "ACC_Y_kurtosis       0\n",
       "ACC_Y_std            0\n",
       "ACC_Y_max            0\n",
       "ACC_Y_DR             0\n",
       "ACC_Z_mean           0\n",
       "ACC_Z_var            0\n",
       "ACC_Z_skew           0\n",
       "ACC_Z_kurtosis       0\n",
       "ACC_Z_std            0\n",
       "ACC_Z_max            0\n",
       "ACC_Z_DR             0\n",
       "GYRO_X_mean          0\n",
       "GYRO_X_var           0\n",
       "GYRO_X_skew          0\n",
       "GYRO_X_kurtosis      0\n",
       "GYRO_X_std           0\n",
       "GYRO_X_max           0\n",
       "GYRO_X_DR            0\n",
       "GYRO_Y_mean          0\n",
       "GYRO_Y_var           0\n",
       "GYRO_Y_skew          0\n",
       "GYRO_Y_kurtosis      0\n",
       "GYRO_Y_std           0\n",
       "GYRO_Y_max           0\n",
       "GYRO_Y_DR            0\n",
       "GYRO_Z_mean          0\n",
       "GYRO_Z_var           0\n",
       "GYRO_Z_skew          0\n",
       "GYRO_Z_kurtosis      0\n",
       "GYRO_Z_std           0\n",
       "GYRO_Z_max           0\n",
       "GYRO_Z_DR            0\n",
       "Lat                  0\n",
       "Lon                  0\n",
       "Alt                  0\n",
       "Speed                0\n",
       "Accuracy             0\n",
       "Bearing              0\n",
       "Road_Anomaly_type    0\n",
       "dtype: int64"
      ]
     },
     "execution_count": 19,
     "metadata": {},
     "output_type": "execute_result"
    }
   ],
   "source": [
    "df_sampled_two_sec = df_sampled_two_sec.reset_index(drop=True)\n",
    "df_sampled_two_sec.isnull().sum()"
   ]
  },
  {
   "cell_type": "code",
   "execution_count": 20,
   "id": "d6278dec",
   "metadata": {},
   "outputs": [
    {
     "data": {
      "text/plain": [
       "(1079, 50)"
      ]
     },
     "execution_count": 20,
     "metadata": {},
     "output_type": "execute_result"
    }
   ],
   "source": [
    "df_sampled_two_sec = df_sampled_two_sec.reset_index(drop=True)\n",
    "df_sampled_two_sec.shape"
   ]
  },
  {
   "cell_type": "markdown",
   "id": "b6f60e3e",
   "metadata": {},
   "source": [
    "## 4.2.1.Drop Columns"
   ]
  },
  {
   "cell_type": "code",
   "execution_count": 21,
   "id": "8ce89f4e",
   "metadata": {},
   "outputs": [
    {
     "data": {
      "text/plain": [
       "Index(['ACC_X_mean', 'ACC_X_var', 'ACC_X_skew', 'ACC_X_kurtosis', 'ACC_X_std',\n",
       "       'ACC_X_max', 'ACC_X_DR', 'ACC_Y_mean', 'ACC_Y_var', 'ACC_Y_skew',\n",
       "       'ACC_Y_kurtosis', 'ACC_Y_std', 'ACC_Y_max', 'ACC_Y_DR', 'ACC_Z_mean',\n",
       "       'ACC_Z_var', 'ACC_Z_skew', 'ACC_Z_kurtosis', 'ACC_Z_std', 'ACC_Z_max',\n",
       "       'ACC_Z_DR', 'GYRO_X_mean', 'GYRO_X_var', 'GYRO_X_skew',\n",
       "       'GYRO_X_kurtosis', 'GYRO_X_std', 'GYRO_X_max', 'GYRO_X_DR',\n",
       "       'GYRO_Y_mean', 'GYRO_Y_var', 'GYRO_Y_skew', 'GYRO_Y_kurtosis',\n",
       "       'GYRO_Y_std', 'GYRO_Y_max', 'GYRO_Y_DR', 'GYRO_Z_mean', 'GYRO_Z_var',\n",
       "       'GYRO_Z_skew', 'GYRO_Z_kurtosis', 'GYRO_Z_std', 'GYRO_Z_max',\n",
       "       'GYRO_Z_DR', 'Lat', 'Lon', 'Alt', 'Speed', 'Accuracy', 'Bearing',\n",
       "       'Road_Anomaly_type'],\n",
       "      dtype='object')"
      ]
     },
     "execution_count": 21,
     "metadata": {},
     "output_type": "execute_result"
    }
   ],
   "source": [
    "df_sampled_two_sec = df_sampled_two_sec.drop(['Two_Sec_window'], axis=1)\n",
    "\n",
    "df_sampled_two_sec.columns"
   ]
  },
  {
   "cell_type": "markdown",
   "id": "111ae45e",
   "metadata": {},
   "source": [
    "## 4.2.2.Save sampled dataset into a csv file"
   ]
  },
  {
   "cell_type": "code",
   "execution_count": 22,
   "id": "0004d982",
   "metadata": {},
   "outputs": [],
   "source": [
    "df_sampled_two_sec.to_csv('Default sensors values and two seconds sampling window.csv')"
   ]
  },
  {
   "cell_type": "markdown",
   "id": "b0855a7d",
   "metadata": {},
   "source": [
    "## 4.2.3.Sample the data (Reducing None data)"
   ]
  },
  {
   "cell_type": "code",
   "execution_count": 23,
   "id": "2edb51d2",
   "metadata": {},
   "outputs": [
    {
     "name": "stdout",
     "output_type": "stream",
     "text": [
      "0    984\n",
      "1     95\n",
      "Name: Road_Anomaly_type, dtype: int64\n"
     ]
    }
   ],
   "source": [
    "print(df_sampled_two_sec[\"Road_Anomaly_type\"].value_counts())"
   ]
  },
  {
   "cell_type": "code",
   "execution_count": 24,
   "id": "3c14eaa9",
   "metadata": {},
   "outputs": [],
   "source": [
    "df_sampled_two_sec_sampled = df_sampled_two_sec\n",
    "i=0\n",
    "j=0\n",
    "df_sampled_two_sec_sampled['remove']=False\n",
    "for name, values in df_sampled_two_sec_sampled['Road_Anomaly_type'].iteritems():\n",
    "    if(values == False):\n",
    "        j=j+1\n",
    "    else:\n",
    "        if(j>6):\n",
    "            df_sampled_two_sec_sampled.loc[i-j+3:i-4,'remove'] = True\n",
    "            j=0\n",
    "        else:\n",
    "            j=0\n",
    "    i=i+1\n"
   ]
  },
  {
   "cell_type": "code",
   "execution_count": 25,
   "id": "eac5e6dc",
   "metadata": {},
   "outputs": [
    {
     "name": "stdout",
     "output_type": "stream",
     "text": [
      "0    512\n",
      "1     95\n",
      "Name: Road_Anomaly_type, dtype: int64\n"
     ]
    }
   ],
   "source": [
    "df_sampled_two_sec_sampled = df_sampled_two_sec_sampled[df_sampled_two_sec_sampled.remove != True]\n",
    "print(df_sampled_two_sec_sampled[\"Road_Anomaly_type\"].value_counts())"
   ]
  },
  {
   "cell_type": "code",
   "execution_count": 26,
   "id": "fed60e73",
   "metadata": {},
   "outputs": [
    {
     "data": {
      "text/plain": [
       "Index(['ACC_X_mean', 'ACC_X_var', 'ACC_X_skew', 'ACC_X_kurtosis', 'ACC_X_std',\n",
       "       'ACC_X_max', 'ACC_X_DR', 'ACC_Y_mean', 'ACC_Y_var', 'ACC_Y_skew',\n",
       "       'ACC_Y_kurtosis', 'ACC_Y_std', 'ACC_Y_max', 'ACC_Y_DR', 'ACC_Z_mean',\n",
       "       'ACC_Z_var', 'ACC_Z_skew', 'ACC_Z_kurtosis', 'ACC_Z_std', 'ACC_Z_max',\n",
       "       'ACC_Z_DR', 'GYRO_X_mean', 'GYRO_X_var', 'GYRO_X_skew',\n",
       "       'GYRO_X_kurtosis', 'GYRO_X_std', 'GYRO_X_max', 'GYRO_X_DR',\n",
       "       'GYRO_Y_mean', 'GYRO_Y_var', 'GYRO_Y_skew', 'GYRO_Y_kurtosis',\n",
       "       'GYRO_Y_std', 'GYRO_Y_max', 'GYRO_Y_DR', 'GYRO_Z_mean', 'GYRO_Z_var',\n",
       "       'GYRO_Z_skew', 'GYRO_Z_kurtosis', 'GYRO_Z_std', 'GYRO_Z_max',\n",
       "       'GYRO_Z_DR', 'Lat', 'Lon', 'Alt', 'Speed', 'Accuracy', 'Bearing',\n",
       "       'Road_Anomaly_type'],\n",
       "      dtype='object')"
      ]
     },
     "execution_count": 26,
     "metadata": {},
     "output_type": "execute_result"
    }
   ],
   "source": [
    "df_sampled_two_sec_sampled = df_sampled_two_sec_sampled.drop(['remove'], axis=1)\n",
    "\n",
    "df_sampled_two_sec_sampled.columns"
   ]
  },
  {
   "cell_type": "code",
   "execution_count": 27,
   "id": "7225bea5",
   "metadata": {},
   "outputs": [],
   "source": [
    "df_sampled_two_sec_sampled.to_csv('Default sensors values and two seconds sampling window SAMPLED.csv')"
   ]
  },
  {
   "cell_type": "markdown",
   "id": "33007ec9",
   "metadata": {},
   "source": [
    "## 4.3.Sample Data using (Three seconds window)"
   ]
  },
  {
   "cell_type": "code",
   "execution_count": 28,
   "id": "2102e28e",
   "metadata": {},
   "outputs": [
    {
     "name": "stderr",
     "output_type": "stream",
     "text": [
      "C:\\Users\\NGSI\\anaconda3\\lib\\site-packages\\pandas\\core\\indexing.py:1637: SettingWithCopyWarning: \n",
      "A value is trying to be set on a copy of a slice from a DataFrame\n",
      "\n",
      "See the caveats in the documentation: https://pandas.pydata.org/pandas-docs/stable/user_guide/indexing.html#returning-a-view-versus-a-copy\n",
      "  self._setitem_single_block(indexer, value, name)\n"
     ]
    }
   ],
   "source": [
    "df_sampled_three_sec = df_sampled\n",
    "df_sampled_three_sec['Three_Sec_window']=0\n",
    "i=0\n",
    "while i < df_sampled_three_sec['Road_Anomaly_type'].size:\n",
    "    if (df_sampled_three_sec['seconds'].iloc[i] % 3) == 0:\n",
    "        df_sampled_three_sec['Three_Sec_window'].iloc[i] = df_sampled_three_sec['seconds'].iloc[i]\n",
    "    elif (df_sampled_three_sec['seconds'].iloc[i] % 3) == 1:\n",
    "        df_sampled_three_sec['Three_Sec_window'].iloc[i] = df_sampled_three_sec['seconds'].iloc[i]-1\n",
    "    elif (df_sampled_three_sec['seconds'].iloc[i] % 3) == 2:\n",
    "        df_sampled_three_sec['Three_Sec_window'].iloc[i] = df_sampled_three_sec['seconds'].iloc[i]-2\n",
    "    i=i+1"
   ]
  },
  {
   "cell_type": "code",
   "execution_count": 29,
   "id": "e425a6c3",
   "metadata": {},
   "outputs": [],
   "source": [
    "df_sampled_three_sec = df_sampled_three_sec.groupby(\"Three_Sec_window\",as_index=False).agg(\n",
    "    ACC_X_mean=pd.NamedAgg(column=\"ACC_X\", aggfunc=np.mean),\n",
    "    ACC_X_var=pd.NamedAgg(column=\"ACC_X\", aggfunc=np.var),\n",
    "    ACC_X_skew=pd.NamedAgg(column=\"ACC_X\", aggfunc=skew),\n",
    "    ACC_X_kurtosis=pd.NamedAgg(column=\"ACC_X\", aggfunc=kurtosis),\n",
    "    ACC_X_std=pd.NamedAgg(column=\"ACC_X\", aggfunc=np.std),\n",
    "    ACC_X_max=pd.NamedAgg(column=\"ACC_X\", aggfunc=\"max\"),\n",
    "    ACC_X_DR=pd.NamedAgg(column=\"ACC_X\", aggfunc=lambda x: x.max() - x.min()),\n",
    "    ACC_Y_mean=pd.NamedAgg(column=\"ACC_Y\", aggfunc=np.mean),\n",
    "    ACC_Y_var=pd.NamedAgg(column=\"ACC_Y\", aggfunc=np.var),\n",
    "    ACC_Y_skew=pd.NamedAgg(column=\"ACC_Y\", aggfunc=skew),\n",
    "    ACC_Y_kurtosis=pd.NamedAgg(column=\"ACC_Y\", aggfunc=kurtosis),\n",
    "    ACC_Y_std=pd.NamedAgg(column=\"ACC_Y\", aggfunc=np.std),\n",
    "    ACC_Y_max=pd.NamedAgg(column=\"ACC_Y\", aggfunc=\"max\"),\n",
    "    ACC_Y_DR=pd.NamedAgg(column=\"ACC_Y\", aggfunc=lambda x: x.max() - x.min()),\n",
    "    ACC_Z_mean=pd.NamedAgg(column=\"ACC_Z\", aggfunc=np.mean),\n",
    "    ACC_Z_var=pd.NamedAgg(column=\"ACC_Z\", aggfunc=np.var),\n",
    "    ACC_Z_skew=pd.NamedAgg(column=\"ACC_Z\", aggfunc=skew),\n",
    "    ACC_Z_kurtosis=pd.NamedAgg(column=\"ACC_Z\", aggfunc=kurtosis),\n",
    "    ACC_Z_std=pd.NamedAgg(column=\"ACC_Z\", aggfunc=np.std),\n",
    "    ACC_Z_max=pd.NamedAgg(column=\"ACC_Z\", aggfunc=\"max\"),\n",
    "    ACC_Z_DR=pd.NamedAgg(column=\"ACC_Z\", aggfunc=lambda x: x.max() - x.min()),\n",
    "    GYRO_X_mean=pd.NamedAgg(column=\"GYRO_X\", aggfunc=np.mean),\n",
    "    GYRO_X_var=pd.NamedAgg(column=\"GYRO_X\", aggfunc=np.var),\n",
    "    GYRO_X_skew=pd.NamedAgg(column=\"GYRO_X\", aggfunc=skew),\n",
    "    GYRO_X_kurtosis=pd.NamedAgg(column=\"GYRO_X\", aggfunc=kurtosis),\n",
    "    GYRO_X_std=pd.NamedAgg(column=\"GYRO_X\", aggfunc=np.std),\n",
    "    GYRO_X_max=pd.NamedAgg(column=\"GYRO_X\", aggfunc=\"max\"),\n",
    "    GYRO_X_DR=pd.NamedAgg(column=\"GYRO_X\", aggfunc=lambda x: x.max() - x.min()),\n",
    "    GYRO_Y_mean=pd.NamedAgg(column=\"GYRO_Y\", aggfunc=np.mean),\n",
    "    GYRO_Y_var=pd.NamedAgg(column=\"GYRO_Y\", aggfunc=np.var),\n",
    "    GYRO_Y_skew=pd.NamedAgg(column=\"GYRO_Y\", aggfunc=skew),\n",
    "    GYRO_Y_kurtosis=pd.NamedAgg(column=\"GYRO_Y\", aggfunc=kurtosis),\n",
    "    GYRO_Y_std=pd.NamedAgg(column=\"GYRO_Y\", aggfunc=np.std),\n",
    "    GYRO_Y_max=pd.NamedAgg(column=\"GYRO_Y\", aggfunc=\"max\"),\n",
    "    GYRO_Y_DR=pd.NamedAgg(column=\"GYRO_Y\", aggfunc=lambda x: x.max() - x.min()),\n",
    "    GYRO_Z_mean=pd.NamedAgg(column=\"GYRO_Z\", aggfunc=np.mean),\n",
    "    GYRO_Z_var=pd.NamedAgg(column=\"GYRO_Z\", aggfunc=np.var),\n",
    "    GYRO_Z_skew=pd.NamedAgg(column=\"GYRO_Z\", aggfunc=skew),\n",
    "    GYRO_Z_kurtosis=pd.NamedAgg(column=\"GYRO_Z\", aggfunc=kurtosis),\n",
    "    GYRO_Z_std=pd.NamedAgg(column=\"GYRO_Z\", aggfunc=np.std),\n",
    "    GYRO_Z_max=pd.NamedAgg(column=\"GYRO_Z\", aggfunc=\"max\"),\n",
    "    GYRO_Z_DR=pd.NamedAgg(column=\"GYRO_Z\", aggfunc=lambda x: x.max() - x.min()),\n",
    "    Lat=pd.NamedAgg(column=\"Latitude\", aggfunc=\"max\"),\n",
    "    Lon=pd.NamedAgg(column=\"Longitude\", aggfunc=\"max\"),\n",
    "    Alt=pd.NamedAgg(column=\"Altitude\", aggfunc=\"max\"),\n",
    "    Speed=pd.NamedAgg(column=\"Speed\", aggfunc=np.mean),\n",
    "    Accuracy=pd.NamedAgg(column=\"Accuracy\", aggfunc=np.mean),\n",
    "    Bearing=pd.NamedAgg(column=\"Bearing\", aggfunc=\"max\"),\n",
    "    Road_Anomaly_type=pd.NamedAgg(column=\"Road_Anomaly_type\", aggfunc=\"max\"),\n",
    "    )"
   ]
  },
  {
   "cell_type": "code",
   "execution_count": 30,
   "id": "5c236f3d",
   "metadata": {},
   "outputs": [
    {
     "name": "stdout",
     "output_type": "stream",
     "text": [
      "0    624\n",
      "1     95\n",
      "Name: Road_Anomaly_type, dtype: int64\n"
     ]
    }
   ],
   "source": [
    "print(df_sampled_three_sec[\"Road_Anomaly_type\"].value_counts())"
   ]
  },
  {
   "cell_type": "code",
   "execution_count": 31,
   "id": "8ee0c30e",
   "metadata": {},
   "outputs": [
    {
     "data": {
      "text/plain": [
       "Three_Sec_window     0\n",
       "ACC_X_mean           0\n",
       "ACC_X_var            0\n",
       "ACC_X_skew           0\n",
       "ACC_X_kurtosis       0\n",
       "ACC_X_std            0\n",
       "ACC_X_max            0\n",
       "ACC_X_DR             0\n",
       "ACC_Y_mean           0\n",
       "ACC_Y_var            0\n",
       "ACC_Y_skew           0\n",
       "ACC_Y_kurtosis       0\n",
       "ACC_Y_std            0\n",
       "ACC_Y_max            0\n",
       "ACC_Y_DR             0\n",
       "ACC_Z_mean           0\n",
       "ACC_Z_var            0\n",
       "ACC_Z_skew           0\n",
       "ACC_Z_kurtosis       0\n",
       "ACC_Z_std            0\n",
       "ACC_Z_max            0\n",
       "ACC_Z_DR             0\n",
       "GYRO_X_mean          0\n",
       "GYRO_X_var           0\n",
       "GYRO_X_skew          0\n",
       "GYRO_X_kurtosis      0\n",
       "GYRO_X_std           0\n",
       "GYRO_X_max           0\n",
       "GYRO_X_DR            0\n",
       "GYRO_Y_mean          0\n",
       "GYRO_Y_var           0\n",
       "GYRO_Y_skew          0\n",
       "GYRO_Y_kurtosis      0\n",
       "GYRO_Y_std           0\n",
       "GYRO_Y_max           0\n",
       "GYRO_Y_DR            0\n",
       "GYRO_Z_mean          0\n",
       "GYRO_Z_var           0\n",
       "GYRO_Z_skew          0\n",
       "GYRO_Z_kurtosis      0\n",
       "GYRO_Z_std           0\n",
       "GYRO_Z_max           0\n",
       "GYRO_Z_DR            0\n",
       "Lat                  0\n",
       "Lon                  0\n",
       "Alt                  0\n",
       "Speed                0\n",
       "Accuracy             0\n",
       "Bearing              0\n",
       "Road_Anomaly_type    0\n",
       "dtype: int64"
      ]
     },
     "execution_count": 31,
     "metadata": {},
     "output_type": "execute_result"
    }
   ],
   "source": [
    "df_sampled_three_sec = df_sampled_three_sec.reset_index(drop=True)\n",
    "df_sampled_three_sec.isnull().sum()"
   ]
  },
  {
   "cell_type": "code",
   "execution_count": 32,
   "id": "12c5f798",
   "metadata": {},
   "outputs": [
    {
     "data": {
      "text/plain": [
       "(719, 50)"
      ]
     },
     "execution_count": 32,
     "metadata": {},
     "output_type": "execute_result"
    }
   ],
   "source": [
    "df_sampled_three_sec.shape"
   ]
  },
  {
   "cell_type": "markdown",
   "id": "39ce5ed2",
   "metadata": {},
   "source": [
    "## 4.3.1.Drop Columns"
   ]
  },
  {
   "cell_type": "code",
   "execution_count": 33,
   "id": "cde613fa",
   "metadata": {},
   "outputs": [
    {
     "data": {
      "text/plain": [
       "Index(['ACC_X_mean', 'ACC_X_var', 'ACC_X_skew', 'ACC_X_kurtosis', 'ACC_X_std',\n",
       "       'ACC_X_max', 'ACC_X_DR', 'ACC_Y_mean', 'ACC_Y_var', 'ACC_Y_skew',\n",
       "       'ACC_Y_kurtosis', 'ACC_Y_std', 'ACC_Y_max', 'ACC_Y_DR', 'ACC_Z_mean',\n",
       "       'ACC_Z_var', 'ACC_Z_skew', 'ACC_Z_kurtosis', 'ACC_Z_std', 'ACC_Z_max',\n",
       "       'ACC_Z_DR', 'GYRO_X_mean', 'GYRO_X_var', 'GYRO_X_skew',\n",
       "       'GYRO_X_kurtosis', 'GYRO_X_std', 'GYRO_X_max', 'GYRO_X_DR',\n",
       "       'GYRO_Y_mean', 'GYRO_Y_var', 'GYRO_Y_skew', 'GYRO_Y_kurtosis',\n",
       "       'GYRO_Y_std', 'GYRO_Y_max', 'GYRO_Y_DR', 'GYRO_Z_mean', 'GYRO_Z_var',\n",
       "       'GYRO_Z_skew', 'GYRO_Z_kurtosis', 'GYRO_Z_std', 'GYRO_Z_max',\n",
       "       'GYRO_Z_DR', 'Lat', 'Lon', 'Alt', 'Speed', 'Accuracy', 'Bearing',\n",
       "       'Road_Anomaly_type'],\n",
       "      dtype='object')"
      ]
     },
     "execution_count": 33,
     "metadata": {},
     "output_type": "execute_result"
    }
   ],
   "source": [
    "df_sampled_three_sec = df_sampled_three_sec.drop(['Three_Sec_window'], axis=1)\n",
    "\n",
    "df_sampled_three_sec.columns"
   ]
  },
  {
   "cell_type": "markdown",
   "id": "0b1a77d4",
   "metadata": {},
   "source": [
    "## 4.3.2.Save sampled dataset into a csv file"
   ]
  },
  {
   "cell_type": "code",
   "execution_count": 34,
   "id": "ddb16305",
   "metadata": {},
   "outputs": [],
   "source": [
    "df_sampled_three_sec.to_csv('Default sensors values and three seconds sampling window.csv')"
   ]
  },
  {
   "cell_type": "markdown",
   "id": "c0765d3e",
   "metadata": {},
   "source": [
    "## 4.3.3.Sample the data (Reducing None data)"
   ]
  },
  {
   "cell_type": "code",
   "execution_count": 35,
   "id": "917bd0c4",
   "metadata": {},
   "outputs": [
    {
     "name": "stdout",
     "output_type": "stream",
     "text": [
      "0    624\n",
      "1     95\n",
      "Name: Road_Anomaly_type, dtype: int64\n"
     ]
    }
   ],
   "source": [
    "print(df_sampled_three_sec[\"Road_Anomaly_type\"].value_counts())"
   ]
  },
  {
   "cell_type": "code",
   "execution_count": 36,
   "id": "7995ea5d",
   "metadata": {},
   "outputs": [],
   "source": [
    "df_sampled_three_sec_sampled = df_sampled_three_sec\n",
    "i=0\n",
    "j=0\n",
    "df_sampled_three_sec_sampled['remove']=False\n",
    "for name, values in df_sampled_three_sec_sampled['Road_Anomaly_type'].iteritems():\n",
    "    if(values == False):\n",
    "        j=j+1\n",
    "    else:\n",
    "        if(j>6):\n",
    "            df_sampled_three_sec_sampled.loc[i-j+3:i-4,'remove'] = True\n",
    "            j=0\n",
    "        else:\n",
    "            j=0\n",
    "    i=i+1\n"
   ]
  },
  {
   "cell_type": "code",
   "execution_count": 37,
   "id": "0696eb92",
   "metadata": {},
   "outputs": [
    {
     "name": "stdout",
     "output_type": "stream",
     "text": [
      "0    432\n",
      "1     95\n",
      "Name: Road_Anomaly_type, dtype: int64\n"
     ]
    }
   ],
   "source": [
    "df_sampled_three_sec_sampled = df_sampled_three_sec_sampled[df_sampled_three_sec_sampled.remove != True]\n",
    "print(df_sampled_three_sec_sampled[\"Road_Anomaly_type\"].value_counts())"
   ]
  },
  {
   "cell_type": "code",
   "execution_count": 38,
   "id": "d300aed4",
   "metadata": {},
   "outputs": [
    {
     "data": {
      "text/plain": [
       "Index(['ACC_X_mean', 'ACC_X_var', 'ACC_X_skew', 'ACC_X_kurtosis', 'ACC_X_std',\n",
       "       'ACC_X_max', 'ACC_X_DR', 'ACC_Y_mean', 'ACC_Y_var', 'ACC_Y_skew',\n",
       "       'ACC_Y_kurtosis', 'ACC_Y_std', 'ACC_Y_max', 'ACC_Y_DR', 'ACC_Z_mean',\n",
       "       'ACC_Z_var', 'ACC_Z_skew', 'ACC_Z_kurtosis', 'ACC_Z_std', 'ACC_Z_max',\n",
       "       'ACC_Z_DR', 'GYRO_X_mean', 'GYRO_X_var', 'GYRO_X_skew',\n",
       "       'GYRO_X_kurtosis', 'GYRO_X_std', 'GYRO_X_max', 'GYRO_X_DR',\n",
       "       'GYRO_Y_mean', 'GYRO_Y_var', 'GYRO_Y_skew', 'GYRO_Y_kurtosis',\n",
       "       'GYRO_Y_std', 'GYRO_Y_max', 'GYRO_Y_DR', 'GYRO_Z_mean', 'GYRO_Z_var',\n",
       "       'GYRO_Z_skew', 'GYRO_Z_kurtosis', 'GYRO_Z_std', 'GYRO_Z_max',\n",
       "       'GYRO_Z_DR', 'Lat', 'Lon', 'Alt', 'Speed', 'Accuracy', 'Bearing',\n",
       "       'Road_Anomaly_type'],\n",
       "      dtype='object')"
      ]
     },
     "execution_count": 38,
     "metadata": {},
     "output_type": "execute_result"
    }
   ],
   "source": [
    "df_sampled_three_sec_sampled = df_sampled_three_sec_sampled.drop(['remove'], axis=1)\n",
    "\n",
    "df_sampled_three_sec_sampled.columns"
   ]
  },
  {
   "cell_type": "code",
   "execution_count": 39,
   "id": "9ad38080",
   "metadata": {},
   "outputs": [],
   "source": [
    "df_sampled_three_sec_sampled.to_csv('Default sensors values and three seconds sampling window SAMPLED.csv')"
   ]
  },
  {
   "cell_type": "markdown",
   "id": "4299419e",
   "metadata": {},
   "source": [
    "## 4.4.Sample Data using (Four seconds window)"
   ]
  },
  {
   "cell_type": "code",
   "execution_count": 40,
   "id": "570f276b",
   "metadata": {},
   "outputs": [
    {
     "name": "stderr",
     "output_type": "stream",
     "text": [
      "C:\\Users\\NGSI\\anaconda3\\lib\\site-packages\\pandas\\core\\indexing.py:1637: SettingWithCopyWarning: \n",
      "A value is trying to be set on a copy of a slice from a DataFrame\n",
      "\n",
      "See the caveats in the documentation: https://pandas.pydata.org/pandas-docs/stable/user_guide/indexing.html#returning-a-view-versus-a-copy\n",
      "  self._setitem_single_block(indexer, value, name)\n"
     ]
    }
   ],
   "source": [
    "df_sampled_four_sec = df_sampled\n",
    "df_sampled_four_sec['Four_Sec_window']=0\n",
    "i=0\n",
    "while i < df_sampled_four_sec['Road_Anomaly_type'].size:\n",
    "    if (df_sampled_four_sec['seconds'].iloc[i] % 4) == 0:\n",
    "        df_sampled_four_sec['Four_Sec_window'].iloc[i] = df_sampled_four_sec['seconds'].iloc[i]\n",
    "    elif (df_sampled_four_sec['seconds'].iloc[i] % 4) == 1:\n",
    "        df_sampled_four_sec['Four_Sec_window'].iloc[i] = df_sampled_four_sec['seconds'].iloc[i]-1\n",
    "    elif (df_sampled_four_sec['seconds'].iloc[i] % 4) == 2:\n",
    "        df_sampled_four_sec['Four_Sec_window'].iloc[i] = df_sampled_four_sec['seconds'].iloc[i]-2\n",
    "    elif (df_sampled_four_sec['seconds'].iloc[i] % 4) == 3:\n",
    "        df_sampled_four_sec['Four_Sec_window'].iloc[i] = df_sampled_four_sec['seconds'].iloc[i]-3\n",
    "    i=i+1"
   ]
  },
  {
   "cell_type": "code",
   "execution_count": 41,
   "id": "571b1301",
   "metadata": {},
   "outputs": [],
   "source": [
    "df_sampled_four_sec = df_sampled_four_sec.groupby(\"Four_Sec_window\",as_index=False).agg(\n",
    "    ACC_X_mean=pd.NamedAgg(column=\"ACC_X\", aggfunc=np.mean),\n",
    "    ACC_X_var=pd.NamedAgg(column=\"ACC_X\", aggfunc=np.var),\n",
    "    ACC_X_skew=pd.NamedAgg(column=\"ACC_X\", aggfunc=skew),\n",
    "    ACC_X_kurtosis=pd.NamedAgg(column=\"ACC_X\", aggfunc=kurtosis),\n",
    "    ACC_X_std=pd.NamedAgg(column=\"ACC_X\", aggfunc=np.std),\n",
    "    ACC_X_max=pd.NamedAgg(column=\"ACC_X\", aggfunc=\"max\"),\n",
    "    ACC_X_DR=pd.NamedAgg(column=\"ACC_X\", aggfunc=lambda x: x.max() - x.min()),\n",
    "    ACC_Y_mean=pd.NamedAgg(column=\"ACC_Y\", aggfunc=np.mean),\n",
    "    ACC_Y_var=pd.NamedAgg(column=\"ACC_Y\", aggfunc=np.var),\n",
    "    ACC_Y_skew=pd.NamedAgg(column=\"ACC_Y\", aggfunc=skew),\n",
    "    ACC_Y_kurtosis=pd.NamedAgg(column=\"ACC_Y\", aggfunc=kurtosis),\n",
    "    ACC_Y_std=pd.NamedAgg(column=\"ACC_Y\", aggfunc=np.std),\n",
    "    ACC_Y_max=pd.NamedAgg(column=\"ACC_Y\", aggfunc=\"max\"),\n",
    "    ACC_Y_DR=pd.NamedAgg(column=\"ACC_Y\", aggfunc=lambda x: x.max() - x.min()),\n",
    "    ACC_Z_mean=pd.NamedAgg(column=\"ACC_Z\", aggfunc=np.mean),\n",
    "    ACC_Z_var=pd.NamedAgg(column=\"ACC_Z\", aggfunc=np.var),\n",
    "    ACC_Z_skew=pd.NamedAgg(column=\"ACC_Z\", aggfunc=skew),\n",
    "    ACC_Z_kurtosis=pd.NamedAgg(column=\"ACC_Z\", aggfunc=kurtosis),\n",
    "    ACC_Z_std=pd.NamedAgg(column=\"ACC_Z\", aggfunc=np.std),\n",
    "    ACC_Z_max=pd.NamedAgg(column=\"ACC_Z\", aggfunc=\"max\"),\n",
    "    ACC_Z_DR=pd.NamedAgg(column=\"ACC_Z\", aggfunc=lambda x: x.max() - x.min()),\n",
    "    GYRO_X_mean=pd.NamedAgg(column=\"GYRO_X\", aggfunc=np.mean),\n",
    "    GYRO_X_var=pd.NamedAgg(column=\"GYRO_X\", aggfunc=np.var),\n",
    "    GYRO_X_skew=pd.NamedAgg(column=\"GYRO_X\", aggfunc=skew),\n",
    "    GYRO_X_kurtosis=pd.NamedAgg(column=\"GYRO_X\", aggfunc=kurtosis),\n",
    "    GYRO_X_std=pd.NamedAgg(column=\"GYRO_X\", aggfunc=np.std),\n",
    "    GYRO_X_max=pd.NamedAgg(column=\"GYRO_X\", aggfunc=\"max\"),\n",
    "    GYRO_X_DR=pd.NamedAgg(column=\"GYRO_X\", aggfunc=lambda x: x.max() - x.min()),\n",
    "    GYRO_Y_mean=pd.NamedAgg(column=\"GYRO_Y\", aggfunc=np.mean),\n",
    "    GYRO_Y_var=pd.NamedAgg(column=\"GYRO_Y\", aggfunc=np.var),\n",
    "    GYRO_Y_skew=pd.NamedAgg(column=\"GYRO_Y\", aggfunc=skew),\n",
    "    GYRO_Y_kurtosis=pd.NamedAgg(column=\"GYRO_Y\", aggfunc=kurtosis),\n",
    "    GYRO_Y_std=pd.NamedAgg(column=\"GYRO_Y\", aggfunc=np.std),\n",
    "    GYRO_Y_max=pd.NamedAgg(column=\"GYRO_Y\", aggfunc=\"max\"),\n",
    "    GYRO_Y_DR=pd.NamedAgg(column=\"GYRO_Y\", aggfunc=lambda x: x.max() - x.min()),\n",
    "    GYRO_Z_mean=pd.NamedAgg(column=\"GYRO_Z\", aggfunc=np.mean),\n",
    "    GYRO_Z_var=pd.NamedAgg(column=\"GYRO_Z\", aggfunc=np.var),\n",
    "    GYRO_Z_skew=pd.NamedAgg(column=\"GYRO_Z\", aggfunc=skew),\n",
    "    GYRO_Z_kurtosis=pd.NamedAgg(column=\"GYRO_Z\", aggfunc=kurtosis),\n",
    "    GYRO_Z_std=pd.NamedAgg(column=\"GYRO_Z\", aggfunc=np.std),\n",
    "    GYRO_Z_max=pd.NamedAgg(column=\"GYRO_Z\", aggfunc=\"max\"),\n",
    "    GYRO_Z_DR=pd.NamedAgg(column=\"GYRO_Z\", aggfunc=lambda x: x.max() - x.min()),\n",
    "    Lat=pd.NamedAgg(column=\"Latitude\", aggfunc=\"max\"),\n",
    "    Lon=pd.NamedAgg(column=\"Longitude\", aggfunc=\"max\"),\n",
    "    Alt=pd.NamedAgg(column=\"Altitude\", aggfunc=\"max\"),\n",
    "    Speed=pd.NamedAgg(column=\"Speed\", aggfunc=np.mean),\n",
    "    Accuracy=pd.NamedAgg(column=\"Accuracy\", aggfunc=np.mean),\n",
    "    Bearing=pd.NamedAgg(column=\"Bearing\", aggfunc=\"max\"),\n",
    "    Road_Anomaly_type=pd.NamedAgg(column=\"Road_Anomaly_type\", aggfunc=\"max\"),\n",
    "    )"
   ]
  },
  {
   "cell_type": "code",
   "execution_count": 42,
   "id": "333529a0",
   "metadata": {},
   "outputs": [
    {
     "name": "stdout",
     "output_type": "stream",
     "text": [
      "0    445\n",
      "1     95\n",
      "Name: Road_Anomaly_type, dtype: int64\n"
     ]
    }
   ],
   "source": [
    "print(df_sampled_four_sec[\"Road_Anomaly_type\"].value_counts())"
   ]
  },
  {
   "cell_type": "code",
   "execution_count": 43,
   "id": "b20f5836",
   "metadata": {},
   "outputs": [
    {
     "data": {
      "text/plain": [
       "Four_Sec_window      0\n",
       "ACC_X_mean           0\n",
       "ACC_X_var            0\n",
       "ACC_X_skew           0\n",
       "ACC_X_kurtosis       0\n",
       "ACC_X_std            0\n",
       "ACC_X_max            0\n",
       "ACC_X_DR             0\n",
       "ACC_Y_mean           0\n",
       "ACC_Y_var            0\n",
       "ACC_Y_skew           0\n",
       "ACC_Y_kurtosis       0\n",
       "ACC_Y_std            0\n",
       "ACC_Y_max            0\n",
       "ACC_Y_DR             0\n",
       "ACC_Z_mean           0\n",
       "ACC_Z_var            0\n",
       "ACC_Z_skew           0\n",
       "ACC_Z_kurtosis       0\n",
       "ACC_Z_std            0\n",
       "ACC_Z_max            0\n",
       "ACC_Z_DR             0\n",
       "GYRO_X_mean          0\n",
       "GYRO_X_var           0\n",
       "GYRO_X_skew          0\n",
       "GYRO_X_kurtosis      0\n",
       "GYRO_X_std           0\n",
       "GYRO_X_max           0\n",
       "GYRO_X_DR            0\n",
       "GYRO_Y_mean          0\n",
       "GYRO_Y_var           0\n",
       "GYRO_Y_skew          0\n",
       "GYRO_Y_kurtosis      0\n",
       "GYRO_Y_std           0\n",
       "GYRO_Y_max           0\n",
       "GYRO_Y_DR            0\n",
       "GYRO_Z_mean          0\n",
       "GYRO_Z_var           0\n",
       "GYRO_Z_skew          0\n",
       "GYRO_Z_kurtosis      0\n",
       "GYRO_Z_std           0\n",
       "GYRO_Z_max           0\n",
       "GYRO_Z_DR            0\n",
       "Lat                  0\n",
       "Lon                  0\n",
       "Alt                  0\n",
       "Speed                0\n",
       "Accuracy             0\n",
       "Bearing              0\n",
       "Road_Anomaly_type    0\n",
       "dtype: int64"
      ]
     },
     "execution_count": 43,
     "metadata": {},
     "output_type": "execute_result"
    }
   ],
   "source": [
    "df_sampled_four_sec = df_sampled_four_sec.reset_index(drop=True)\n",
    "df_sampled_four_sec.isnull().sum()"
   ]
  },
  {
   "cell_type": "code",
   "execution_count": 44,
   "id": "18c0986a",
   "metadata": {},
   "outputs": [
    {
     "data": {
      "text/plain": [
       "(540, 50)"
      ]
     },
     "execution_count": 44,
     "metadata": {},
     "output_type": "execute_result"
    }
   ],
   "source": [
    "df_sampled_four_sec.shape"
   ]
  },
  {
   "cell_type": "markdown",
   "id": "88371225",
   "metadata": {},
   "source": [
    "## 4.4.1.Drop Columns"
   ]
  },
  {
   "cell_type": "code",
   "execution_count": 45,
   "id": "7718daae",
   "metadata": {},
   "outputs": [
    {
     "data": {
      "text/plain": [
       "Index(['ACC_X_mean', 'ACC_X_var', 'ACC_X_skew', 'ACC_X_kurtosis', 'ACC_X_std',\n",
       "       'ACC_X_max', 'ACC_X_DR', 'ACC_Y_mean', 'ACC_Y_var', 'ACC_Y_skew',\n",
       "       'ACC_Y_kurtosis', 'ACC_Y_std', 'ACC_Y_max', 'ACC_Y_DR', 'ACC_Z_mean',\n",
       "       'ACC_Z_var', 'ACC_Z_skew', 'ACC_Z_kurtosis', 'ACC_Z_std', 'ACC_Z_max',\n",
       "       'ACC_Z_DR', 'GYRO_X_mean', 'GYRO_X_var', 'GYRO_X_skew',\n",
       "       'GYRO_X_kurtosis', 'GYRO_X_std', 'GYRO_X_max', 'GYRO_X_DR',\n",
       "       'GYRO_Y_mean', 'GYRO_Y_var', 'GYRO_Y_skew', 'GYRO_Y_kurtosis',\n",
       "       'GYRO_Y_std', 'GYRO_Y_max', 'GYRO_Y_DR', 'GYRO_Z_mean', 'GYRO_Z_var',\n",
       "       'GYRO_Z_skew', 'GYRO_Z_kurtosis', 'GYRO_Z_std', 'GYRO_Z_max',\n",
       "       'GYRO_Z_DR', 'Lat', 'Lon', 'Alt', 'Speed', 'Accuracy', 'Bearing',\n",
       "       'Road_Anomaly_type'],\n",
       "      dtype='object')"
      ]
     },
     "execution_count": 45,
     "metadata": {},
     "output_type": "execute_result"
    }
   ],
   "source": [
    "df_sampled_four_sec = df_sampled_four_sec.drop(['Four_Sec_window'], axis=1)\n",
    "\n",
    "df_sampled_four_sec.columns"
   ]
  },
  {
   "cell_type": "markdown",
   "id": "21595277",
   "metadata": {},
   "source": [
    "## 4.4.2.Save sampled dataset into a csv file"
   ]
  },
  {
   "cell_type": "code",
   "execution_count": 46,
   "id": "36bbdc25",
   "metadata": {},
   "outputs": [],
   "source": [
    "df_sampled_four_sec.to_csv('Default sensors values and four seconds sampling window.csv')"
   ]
  },
  {
   "cell_type": "markdown",
   "id": "e514a3d8",
   "metadata": {},
   "source": [
    "## 4.4.3.Sample the data (Reducing None data)"
   ]
  },
  {
   "cell_type": "code",
   "execution_count": 47,
   "id": "6fe6fa0d",
   "metadata": {},
   "outputs": [
    {
     "name": "stdout",
     "output_type": "stream",
     "text": [
      "0    445\n",
      "1     95\n",
      "Name: Road_Anomaly_type, dtype: int64\n"
     ]
    }
   ],
   "source": [
    "print(df_sampled_four_sec[\"Road_Anomaly_type\"].value_counts())"
   ]
  },
  {
   "cell_type": "code",
   "execution_count": 48,
   "id": "8d2f487c",
   "metadata": {},
   "outputs": [],
   "source": [
    "df_sampled_four_sec_sampled = df_sampled_four_sec\n",
    "i=0\n",
    "j=0\n",
    "df_sampled_four_sec_sampled['remove']=False\n",
    "for name, values in df_sampled_four_sec_sampled['Road_Anomaly_type'].iteritems():\n",
    "    if(values == False):\n",
    "        j=j+1\n",
    "    else:\n",
    "        if(j>6):\n",
    "            df_sampled_four_sec_sampled.loc[i-j+3:i-4,'remove'] = True\n",
    "            j=0\n",
    "        else:\n",
    "            j=0\n",
    "    i=i+1\n"
   ]
  },
  {
   "cell_type": "code",
   "execution_count": 49,
   "id": "f5932e70",
   "metadata": {},
   "outputs": [
    {
     "name": "stdout",
     "output_type": "stream",
     "text": [
      "0    351\n",
      "1     95\n",
      "Name: Road_Anomaly_type, dtype: int64\n"
     ]
    }
   ],
   "source": [
    "df_sampled_four_sec_sampled = df_sampled_four_sec_sampled[df_sampled_four_sec_sampled.remove != True]\n",
    "print(df_sampled_four_sec_sampled[\"Road_Anomaly_type\"].value_counts())"
   ]
  },
  {
   "cell_type": "code",
   "execution_count": 50,
   "id": "5c224d43",
   "metadata": {},
   "outputs": [
    {
     "data": {
      "text/plain": [
       "Index(['ACC_X_mean', 'ACC_X_var', 'ACC_X_skew', 'ACC_X_kurtosis', 'ACC_X_std',\n",
       "       'ACC_X_max', 'ACC_X_DR', 'ACC_Y_mean', 'ACC_Y_var', 'ACC_Y_skew',\n",
       "       'ACC_Y_kurtosis', 'ACC_Y_std', 'ACC_Y_max', 'ACC_Y_DR', 'ACC_Z_mean',\n",
       "       'ACC_Z_var', 'ACC_Z_skew', 'ACC_Z_kurtosis', 'ACC_Z_std', 'ACC_Z_max',\n",
       "       'ACC_Z_DR', 'GYRO_X_mean', 'GYRO_X_var', 'GYRO_X_skew',\n",
       "       'GYRO_X_kurtosis', 'GYRO_X_std', 'GYRO_X_max', 'GYRO_X_DR',\n",
       "       'GYRO_Y_mean', 'GYRO_Y_var', 'GYRO_Y_skew', 'GYRO_Y_kurtosis',\n",
       "       'GYRO_Y_std', 'GYRO_Y_max', 'GYRO_Y_DR', 'GYRO_Z_mean', 'GYRO_Z_var',\n",
       "       'GYRO_Z_skew', 'GYRO_Z_kurtosis', 'GYRO_Z_std', 'GYRO_Z_max',\n",
       "       'GYRO_Z_DR', 'Lat', 'Lon', 'Alt', 'Speed', 'Accuracy', 'Bearing',\n",
       "       'Road_Anomaly_type'],\n",
       "      dtype='object')"
      ]
     },
     "execution_count": 50,
     "metadata": {},
     "output_type": "execute_result"
    }
   ],
   "source": [
    "df_sampled_four_sec_sampled = df_sampled_four_sec_sampled.drop(['remove'], axis=1)\n",
    "\n",
    "df_sampled_four_sec_sampled.columns"
   ]
  },
  {
   "cell_type": "code",
   "execution_count": 51,
   "id": "1aba35e5",
   "metadata": {},
   "outputs": [],
   "source": [
    "df_sampled_four_sec_sampled.to_csv('Default sensors values and four seconds sampling window SAMPLED.csv')"
   ]
  },
  {
   "cell_type": "markdown",
   "id": "3341ec93",
   "metadata": {},
   "source": [
    "## 5.Sample Data using (Location)\n",
    "\n",
    "Five statistical features (mean, variance, skewness, kurtosis, standard deviation, max) are generated for each sensors value (ACC_X\tACC_Y\tACC_Z\tGYRO_X\tGYRO_Y\tGYRO_Z)."
   ]
  },
  {
   "cell_type": "code",
   "execution_count": 52,
   "id": "f2cd314b",
   "metadata": {},
   "outputs": [],
   "source": [
    "df_sampled_location = df"
   ]
  },
  {
   "cell_type": "code",
   "execution_count": 53,
   "id": "4c1d385d",
   "metadata": {},
   "outputs": [],
   "source": [
    "df_sampled_location['Location']=df_sampled_location['Latitude'].map(str)+\"/\"+df_sampled_location[\"Longitude\"].map(str)\n"
   ]
  },
  {
   "cell_type": "code",
   "execution_count": 54,
   "id": "317c1796",
   "metadata": {},
   "outputs": [],
   "source": [
    "df_sampled_location = df_sampled_location.groupby(\"Location\",as_index=False).agg(\n",
    "    ACC_X_mean=pd.NamedAgg(column=\"ACC_X\", aggfunc=np.mean),\n",
    "    ACC_X_var=pd.NamedAgg(column=\"ACC_X\", aggfunc=np.var),\n",
    "    ACC_X_skew=pd.NamedAgg(column=\"ACC_X\", aggfunc=skew),\n",
    "    ACC_X_kurtosis=pd.NamedAgg(column=\"ACC_X\", aggfunc=kurtosis),\n",
    "    ACC_X_std=pd.NamedAgg(column=\"ACC_X\", aggfunc=np.std),\n",
    "    ACC_X_max=pd.NamedAgg(column=\"ACC_X\", aggfunc=\"max\"),\n",
    "    ACC_Y_mean=pd.NamedAgg(column=\"ACC_Y\", aggfunc=np.mean),\n",
    "    ACC_Y_var=pd.NamedAgg(column=\"ACC_Y\", aggfunc=np.var),\n",
    "    ACC_Y_skew=pd.NamedAgg(column=\"ACC_Y\", aggfunc=skew),\n",
    "    ACC_Y_kurtosis=pd.NamedAgg(column=\"ACC_Y\", aggfunc=kurtosis),\n",
    "    ACC_Y_std=pd.NamedAgg(column=\"ACC_Y\", aggfunc=np.std),\n",
    "    ACC_Y_max=pd.NamedAgg(column=\"ACC_Y\", aggfunc=\"max\"),\n",
    "    ACC_Z_mean=pd.NamedAgg(column=\"ACC_Z\", aggfunc=np.mean),\n",
    "    ACC_Z_var=pd.NamedAgg(column=\"ACC_Z\", aggfunc=np.var),\n",
    "    ACC_Z_skew=pd.NamedAgg(column=\"ACC_Z\", aggfunc=skew),\n",
    "    ACC_Z_kurtosis=pd.NamedAgg(column=\"ACC_Z\", aggfunc=kurtosis),\n",
    "    ACC_Z_std=pd.NamedAgg(column=\"ACC_Z\", aggfunc=np.std),\n",
    "    ACC_Z_max=pd.NamedAgg(column=\"ACC_Z\", aggfunc=\"max\"),\n",
    "    GYRO_X_mean=pd.NamedAgg(column=\"GYRO_X\", aggfunc=np.mean),\n",
    "    GYRO_X_var=pd.NamedAgg(column=\"GYRO_X\", aggfunc=np.var),\n",
    "    GYRO_X_skew=pd.NamedAgg(column=\"GYRO_X\", aggfunc=skew),\n",
    "    GYRO_X_kurtosis=pd.NamedAgg(column=\"GYRO_X\", aggfunc=kurtosis),\n",
    "    GYRO_X_std=pd.NamedAgg(column=\"GYRO_X\", aggfunc=np.std),\n",
    "    GYRO_X_max=pd.NamedAgg(column=\"GYRO_X\", aggfunc=\"max\"),\n",
    "    GYRO_Y_mean=pd.NamedAgg(column=\"GYRO_Y\", aggfunc=np.mean),\n",
    "    GYRO_Y_var=pd.NamedAgg(column=\"GYRO_Y\", aggfunc=np.var),\n",
    "    GYRO_Y_skew=pd.NamedAgg(column=\"GYRO_Y\", aggfunc=skew),\n",
    "    GYRO_Y_kurtosis=pd.NamedAgg(column=\"GYRO_Y\", aggfunc=kurtosis),\n",
    "    GYRO_Y_std=pd.NamedAgg(column=\"GYRO_Y\", aggfunc=np.std),\n",
    "    GYRO_Y_max=pd.NamedAgg(column=\"GYRO_Y\", aggfunc=\"max\"),\n",
    "    GYRO_Z_mean=pd.NamedAgg(column=\"GYRO_Z\", aggfunc=np.mean),\n",
    "    GYRO_Z_var=pd.NamedAgg(column=\"GYRO_Z\", aggfunc=np.var),\n",
    "    GYRO_Z_skew=pd.NamedAgg(column=\"GYRO_Z\", aggfunc=skew),\n",
    "    GYRO_Z_kurtosis=pd.NamedAgg(column=\"GYRO_Z\", aggfunc=kurtosis),\n",
    "    GYRO_Z_std=pd.NamedAgg(column=\"GYRO_Z\", aggfunc=np.std),\n",
    "    GYRO_Z_max=pd.NamedAgg(column=\"GYRO_Z\", aggfunc=\"max\"),\n",
    "    Lat=pd.NamedAgg(column=\"Latitude\", aggfunc=\"max\"),\n",
    "    Lon=pd.NamedAgg(column=\"Longitude\", aggfunc=\"max\"),\n",
    "    Alt=pd.NamedAgg(column=\"Altitude\", aggfunc=\"max\"),\n",
    "    Speed=pd.NamedAgg(column=\"Speed\", aggfunc=np.mean),\n",
    "    Accuracy=pd.NamedAgg(column=\"Accuracy\", aggfunc=np.mean),\n",
    "    Bearing=pd.NamedAgg(column=\"Bearing\", aggfunc=\"max\"),\n",
    "    Road_Anomaly_type=pd.NamedAgg(column=\"Road_Anomaly_type\", aggfunc=\"max\"),\n",
    "    \n",
    ")"
   ]
  },
  {
   "cell_type": "markdown",
   "id": "601400dc",
   "metadata": {},
   "source": [
    "## 5.1. Drop Null values"
   ]
  },
  {
   "cell_type": "code",
   "execution_count": 55,
   "id": "b4bfd66b",
   "metadata": {},
   "outputs": [
    {
     "data": {
      "text/plain": [
       "Location             0\n",
       "ACC_X_mean           0\n",
       "ACC_X_var            1\n",
       "ACC_X_skew           0\n",
       "ACC_X_kurtosis       0\n",
       "ACC_X_std            1\n",
       "ACC_X_max            0\n",
       "ACC_Y_mean           0\n",
       "ACC_Y_var            1\n",
       "ACC_Y_skew           0\n",
       "ACC_Y_kurtosis       0\n",
       "ACC_Y_std            1\n",
       "ACC_Y_max            0\n",
       "ACC_Z_mean           0\n",
       "ACC_Z_var            1\n",
       "ACC_Z_skew           0\n",
       "ACC_Z_kurtosis       0\n",
       "ACC_Z_std            1\n",
       "ACC_Z_max            0\n",
       "GYRO_X_mean          0\n",
       "GYRO_X_var           1\n",
       "GYRO_X_skew          0\n",
       "GYRO_X_kurtosis      0\n",
       "GYRO_X_std           1\n",
       "GYRO_X_max           0\n",
       "GYRO_Y_mean          0\n",
       "GYRO_Y_var           1\n",
       "GYRO_Y_skew          0\n",
       "GYRO_Y_kurtosis      0\n",
       "GYRO_Y_std           1\n",
       "GYRO_Y_max           0\n",
       "GYRO_Z_mean          0\n",
       "GYRO_Z_var           1\n",
       "GYRO_Z_skew          0\n",
       "GYRO_Z_kurtosis      0\n",
       "GYRO_Z_std           1\n",
       "GYRO_Z_max           0\n",
       "Lat                  0\n",
       "Lon                  0\n",
       "Alt                  0\n",
       "Speed                0\n",
       "Accuracy             0\n",
       "Bearing              0\n",
       "Road_Anomaly_type    0\n",
       "dtype: int64"
      ]
     },
     "execution_count": 55,
     "metadata": {},
     "output_type": "execute_result"
    }
   ],
   "source": [
    "df_sampled_location.isnull().sum()"
   ]
  },
  {
   "cell_type": "code",
   "execution_count": 56,
   "id": "a6c43ba1",
   "metadata": {},
   "outputs": [
    {
     "data": {
      "text/plain": [
       "(261, 44)"
      ]
     },
     "execution_count": 56,
     "metadata": {},
     "output_type": "execute_result"
    }
   ],
   "source": [
    "df_sampled_location = df_sampled_location.dropna()\n",
    "df_sampled_location = df_sampled_location.reset_index(drop=True)\n",
    "df_sampled_location.shape"
   ]
  },
  {
   "cell_type": "code",
   "execution_count": 57,
   "id": "b634463f",
   "metadata": {},
   "outputs": [
    {
     "data": {
      "text/plain": [
       "0    177\n",
       "1     84\n",
       "Name: Road_Anomaly_type, dtype: int64"
      ]
     },
     "execution_count": 57,
     "metadata": {},
     "output_type": "execute_result"
    }
   ],
   "source": [
    "df_sampled_location['Road_Anomaly_type'].value_counts()"
   ]
  },
  {
   "cell_type": "code",
   "execution_count": 58,
   "id": "bdb47732",
   "metadata": {},
   "outputs": [
    {
     "data": {
      "text/plain": [
       "Index(['ACC_X_mean', 'ACC_X_var', 'ACC_X_skew', 'ACC_X_kurtosis', 'ACC_X_std',\n",
       "       'ACC_X_max', 'ACC_Y_mean', 'ACC_Y_var', 'ACC_Y_skew', 'ACC_Y_kurtosis',\n",
       "       'ACC_Y_std', 'ACC_Y_max', 'ACC_Z_mean', 'ACC_Z_var', 'ACC_Z_skew',\n",
       "       'ACC_Z_kurtosis', 'ACC_Z_std', 'ACC_Z_max', 'GYRO_X_mean', 'GYRO_X_var',\n",
       "       'GYRO_X_skew', 'GYRO_X_kurtosis', 'GYRO_X_std', 'GYRO_X_max',\n",
       "       'GYRO_Y_mean', 'GYRO_Y_var', 'GYRO_Y_skew', 'GYRO_Y_kurtosis',\n",
       "       'GYRO_Y_std', 'GYRO_Y_max', 'GYRO_Z_mean', 'GYRO_Z_var', 'GYRO_Z_skew',\n",
       "       'GYRO_Z_kurtosis', 'GYRO_Z_std', 'GYRO_Z_max', 'Lat', 'Lon', 'Alt',\n",
       "       'Speed', 'Accuracy', 'Bearing', 'Road_Anomaly_type'],\n",
       "      dtype='object')"
      ]
     },
     "execution_count": 58,
     "metadata": {},
     "output_type": "execute_result"
    }
   ],
   "source": [
    "df_sampled_location = df_sampled_location.drop(['Location'], axis=1)\n",
    "\n",
    "df_sampled_location.columns"
   ]
  },
  {
   "cell_type": "markdown",
   "id": "d1d88ad5",
   "metadata": {},
   "source": [
    "## 5.2.Save sampled dataset into a csv file"
   ]
  },
  {
   "cell_type": "code",
   "execution_count": 59,
   "id": "3f59d7ff",
   "metadata": {},
   "outputs": [],
   "source": [
    "df_sampled_location.to_csv('Default sensors values and sampling by location.csv')"
   ]
  }
 ],
 "metadata": {
  "kernelspec": {
   "display_name": "Python 3",
   "language": "python",
   "name": "python3"
  },
  "language_info": {
   "codemirror_mode": {
    "name": "ipython",
    "version": 3
   },
   "file_extension": ".py",
   "mimetype": "text/x-python",
   "name": "python",
   "nbconvert_exporter": "python",
   "pygments_lexer": "ipython3",
   "version": "3.8.8"
  }
 },
 "nbformat": 4,
 "nbformat_minor": 5
}
